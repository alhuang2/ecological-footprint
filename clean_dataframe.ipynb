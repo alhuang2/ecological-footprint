import pandas as pd
import numpy as np

df = pd.read_csv('NFA_2018.csv', usecols=[0,1,4,5,12])

EFCons = df[df.record == 'EFConsPerCap']

EFCons

years = [1994,1995,1996,1997,1998,1999,2000,2001,2002,2003,2004,2005,2006,2007,2008,2009,2010,2011,2012,2013,2014]

EFCons_years = EFCons[EFCons.year.isin(years)]

EFCons_years
